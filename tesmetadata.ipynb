{
  "nbformat": 4,
  "nbformat_minor": 0,
  "metadata": {
    "colab": {
      "provenance": []
    },
    "kernelspec": {
      "name": "python3",
      "display_name": "Python 3"
    },
    "language_info": {
      "name": "python"
    }
  },
  "cells": [
    {
      "cell_type": "code",
      "execution_count": 1,
      "metadata": {
        "colab": {
          "base_uri": "https://localhost:8080/"
        },
        "id": "qOBGh6NJ10SG",
        "outputId": "a77505b1-3985-4890-b1d7-66c47239d7d4"
      },
      "outputs": [
        {
          "output_type": "stream",
          "name": "stdout",
          "text": [
            "Cloning into 'bangkit-machine-learning'...\n",
            "remote: Enumerating objects: 3085, done.\u001b[K\n",
            "remote: Counting objects: 100% (33/33), done.\u001b[K\n",
            "remote: Compressing objects: 100% (28/28), done.\u001b[K\n",
            "remote: Total 3085 (delta 9), reused 26 (delta 4), pack-reused 3052 (from 1)\u001b[K\n",
            "Receiving objects: 100% (3085/3085), 268.81 MiB | 30.36 MiB/s, done.\n",
            "Resolving deltas: 100% (14/14), done.\n",
            "Updating files: 100% (5450/5450), done.\n"
          ]
        }
      ],
      "source": [
        "!git clone https://github.com/mybothy/bangkit-machine-learning.git"
      ]
    },
    {
      "cell_type": "code",
      "source": [
        "!pip install tflite-support"
      ],
      "metadata": {
        "colab": {
          "base_uri": "https://localhost:8080/"
        },
        "id": "3oNNoBCC2NjC",
        "outputId": "8729cc6e-0fd0-449f-a50d-f2ed76681036"
      },
      "execution_count": 1,
      "outputs": [
        {
          "output_type": "stream",
          "name": "stdout",
          "text": [
            "Requirement already satisfied: tflite-support in /usr/local/lib/python3.10/dist-packages (0.4.4)\n",
            "Requirement already satisfied: absl-py>=0.7.0 in /usr/local/lib/python3.10/dist-packages (from tflite-support) (1.4.0)\n",
            "Requirement already satisfied: numpy>=1.20.0 in /usr/local/lib/python3.10/dist-packages (from tflite-support) (1.26.4)\n",
            "Requirement already satisfied: flatbuffers>=2.0 in /usr/local/lib/python3.10/dist-packages (from tflite-support) (24.3.25)\n",
            "Requirement already satisfied: protobuf<4,>=3.18.0 in /usr/local/lib/python3.10/dist-packages (from tflite-support) (3.20.3)\n",
            "Requirement already satisfied: sounddevice>=0.4.4 in /usr/local/lib/python3.10/dist-packages (from tflite-support) (0.5.1)\n",
            "Requirement already satisfied: pybind11>=2.6.0 in /usr/local/lib/python3.10/dist-packages (from tflite-support) (2.13.6)\n",
            "Requirement already satisfied: CFFI>=1.0 in /usr/local/lib/python3.10/dist-packages (from sounddevice>=0.4.4->tflite-support) (1.17.1)\n",
            "Requirement already satisfied: pycparser in /usr/local/lib/python3.10/dist-packages (from CFFI>=1.0->sounddevice>=0.4.4->tflite-support) (2.22)\n"
          ]
        }
      ]
    },
    {
      "cell_type": "code",
      "source": [
        "import tensorflow as tf\n",
        "from PIL import Image\n",
        "import numpy as np\n",
        "\n",
        "\n",
        "# Load the TFLite model\n",
        "def load_tflite_model(model_path):\n",
        "    interpreter = tf.lite.Interpreter(model_path=model_path)\n",
        "    interpreter.allocate_tensors()\n",
        "    return interpreter\n",
        "\n",
        "# Load labels from a labels.txt file\n",
        "def load_labels(labels_file_path):\n",
        "    with open(labels_file_path, \"r\") as f:\n",
        "        labels = [line.strip() for line in f.readlines()]\n",
        "    return labels\n",
        "\n",
        "# Preprocess the input image\n",
        "def preprocess_image(image_path, target_size=(224, 224)):\n",
        "    image = Image.open(image_path).convert(\"RGB\").resize(target_size)\n",
        "    image_array = np.array(image, dtype=np.float32) / 255.0\n",
        "    return np.expand_dims(image_array, axis=0)\n",
        "\n",
        "# Predict the image\n",
        "def predict_image(interpreter, image_array):\n",
        "    input_details = interpreter.get_input_details()\n",
        "    output_details = interpreter.get_output_details()\n",
        "\n",
        "    interpreter.set_tensor(input_details[0]['index'], image_array)\n",
        "    interpreter.invoke()\n",
        "\n",
        "    predictions = interpreter.get_tensor(output_details[0]['index'])\n",
        "    return predictions\n",
        "\n",
        "# Paths to model and labels\n",
        "model_path = \"bangkit-machine-learning/FINALBGSBGT/my_model_lite_with_metadata.tflite\"  # Path to your TFLite model\n",
        "labels_path = \"bangkit-machine-learning/FINALBGSBGT/labels.txt\"                         # Path to your labels.txt file\n",
        "image_path = \"bangkit-machine-learning/tes/steak/pexels-gonzalo-guzman-391363-3997609.jpg\"         # Path to the image to predict\n",
        "\n",
        "# Load labels\n",
        "labels = load_labels(labels_path)\n",
        "\n",
        "# Run inference\n",
        "interpreter = load_tflite_model(model_path)\n",
        "image_array = preprocess_image(image_path)\n",
        "predictions = predict_image(interpreter, image_array)\n",
        "\n",
        "# Display results\n",
        "predicted_class_index = np.argmax(predictions)\n",
        "predicted_class_name = labels[predicted_class_index]\n",
        "confidence_score = np.max(predictions)\n",
        "\n",
        "print(f\"Predicted Food: {predicted_class_name}\")\n",
        "print(f\"Confidence Score: {confidence_score:.2f}\")\n"
      ],
      "metadata": {
        "colab": {
          "base_uri": "https://localhost:8080/"
        },
        "id": "yi_Lu4MZ2XCy",
        "outputId": "4fa58049-2847-444d-8d55-e294f571054b"
      },
      "execution_count": 4,
      "outputs": [
        {
          "output_type": "stream",
          "name": "stdout",
          "text": [
            "Predicted Food: Steak\n",
            "Confidence Score: 0.81\n"
          ]
        }
      ]
    },
    {
      "cell_type": "code",
      "source": [
        "import numpy as np\n",
        "from PIL import Image\n",
        "import tensorflow as tf\n",
        "\n",
        "# Load the TFLite model\n",
        "def load_tflite_model(model_path):\n",
        "    interpreter = tf.lite.Interpreter(model_path=model_path)\n",
        "    interpreter.allocate_tensors()\n",
        "    return interpreter\n",
        "\n",
        "# Preprocess the input image\n",
        "def preprocess_image(image_path, target_size=(224, 224)):\n",
        "    image = Image.open(image_path).convert(\"RGB\").resize(target_size)\n",
        "    image_array = np.array(image, dtype=np.float32) / 255.0\n",
        "    return np.expand_dims(image_array, axis=0)\n",
        "\n",
        "# Predict the image\n",
        "def predict_image(interpreter, image_array):\n",
        "    input_details = interpreter.get_input_details()\n",
        "    output_details = interpreter.get_output_details()\n",
        "\n",
        "    interpreter.set_tensor(input_details[0]['index'], image_array)\n",
        "    interpreter.invoke()\n",
        "\n",
        "    predictions = interpreter.get_tensor(output_details[0]['index'])\n",
        "    return predictions\n",
        "\n",
        "# Path to your TFLite model\n",
        "model_path = \"bangkit-machine-learning/FINALBGSBGT/my_model_lite_with_metadata.tflite\"  # Replace with your model path\n",
        "\n",
        "# Load the model\n",
        "interpreter = load_tflite_model(model_path)\n",
        "\n",
        "# Path to the image to predict\n",
        "image_path = \"bangkit-machine-learning/tes/steak/pexels-gonzalo-guzman-391363-3997609.jpg\"  # Replace with the actual image path\n",
        "\n",
        "# Preprocess the image\n",
        "image_array = preprocess_image(image_path)\n",
        "\n",
        "# Predict\n",
        "predictions = predict_image(interpreter, image_array)\n",
        "\n",
        "# Get the index of the class with the highest score\n",
        "predicted_class_index = np.argmax(predictions)\n",
        "confidence_score = np.max(predictions)\n",
        "\n",
        "# Define class names\n",
        "class_names = [\"French Fries\", \"Omelette\", \"Steak\"]\n",
        "\n",
        "# Get the predicted class name\n",
        "predicted_class_name = class_names[predicted_class_index]\n",
        "\n",
        "# Print the predicted class index and confidence\n",
        "print(f\"Predicted Class Index: {predicted_class_index}\")\n",
        "print(f\"Predicted Class: {predicted_class_name}\")\n",
        "print(f\"Confidence Score: {confidence_score:.2f}\")\n"
      ],
      "metadata": {
        "colab": {
          "base_uri": "https://localhost:8080/"
        },
        "id": "necdckJX3DCa",
        "outputId": "e05497e8-0696-4ed4-b2db-7860088993a6"
      },
      "execution_count": 11,
      "outputs": [
        {
          "output_type": "stream",
          "name": "stdout",
          "text": [
            "Predicted Class Index: 2\n",
            "Predicted Class: Steak\n",
            "Confidence Score: 0.81\n"
          ]
        }
      ]
    }
  ]
}